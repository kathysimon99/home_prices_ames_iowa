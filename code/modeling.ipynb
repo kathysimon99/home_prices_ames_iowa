{
 "cells": [
  {
   "cell_type": "code",
   "execution_count": 1,
   "id": "db05a7c8-7339-4934-8b9f-1f4082ddd0fb",
   "metadata": {},
   "outputs": [
    {
     "name": "stdout",
     "output_type": "stream",
     "text": [
      "No Warning Shown\n"
     ]
    }
   ],
   "source": [
    "import warnings\n",
    "warnings.filterwarnings('ignore')\n",
    "warnings.warn('DelftStack')\n",
    "warnings.warn('Do not show this message')\n",
    "print(\"No Warning Shown\")"
   ]
  },
  {
   "cell_type": "code",
   "execution_count": 2,
   "id": "57568399-c35b-4c79-87ed-e844c5a7fab2",
   "metadata": {},
   "outputs": [],
   "source": [
    "#Import libraries here\n",
    "import numpy as np\n",
    "import pandas as pd\n",
    "import matplotlib.pyplot as plt\n",
    "import seaborn as sns\n",
    "\n",
    "#import graphing utilities\n",
    "import utilities.graphing_utils as utl\n",
    "\n",
    "%matplotlib inline\n",
    "\n",
    "#Import models\n",
    "from sklearn.linear_model import LinearRegression, RidgeCV, Lasso, LassoCV\n",
    "from sklearn.model_selection import train_test_split, cross_val_score, cross_val_predict\n",
    "from sklearn.metrics import r2_score, mean_squared_error\n",
    "from sklearn.preprocessing import PolynomialFeatures, StandardScaler\n",
    "\n",
    "import statsmodels as sm\n",
    "import statsmodels.formula.api as smf\n",
    "import joblib"
   ]
  },
  {
   "cell_type": "code",
   "execution_count": 3,
   "id": "0800c8e0-7b25-4223-8f7c-eb405e9d7e2b",
   "metadata": {},
   "outputs": [],
   "source": [
    "#read in clean data file\n",
    "clean_df = pd.read_csv('./datasets/clean.csv')"
   ]
  },
  {
   "cell_type": "code",
   "execution_count": 4,
   "id": "2e14e158-7917-4e87-87df-79fc8c7341a4",
   "metadata": {},
   "outputs": [
    {
     "data": {
      "text/html": [
       "<div>\n",
       "<style scoped>\n",
       "    .dataframe tbody tr th:only-of-type {\n",
       "        vertical-align: middle;\n",
       "    }\n",
       "\n",
       "    .dataframe tbody tr th {\n",
       "        vertical-align: top;\n",
       "    }\n",
       "\n",
       "    .dataframe thead th {\n",
       "        text-align: right;\n",
       "    }\n",
       "</style>\n",
       "<table border=\"1\" class=\"dataframe\">\n",
       "  <thead>\n",
       "    <tr style=\"text-align: right;\">\n",
       "      <th></th>\n",
       "      <th>Unnamed: 0</th>\n",
       "      <th>id</th>\n",
       "      <th>pid</th>\n",
       "      <th>ms_subclass</th>\n",
       "      <th>ms_zoning</th>\n",
       "      <th>lot_frontage</th>\n",
       "      <th>lot_area</th>\n",
       "      <th>street</th>\n",
       "      <th>alley</th>\n",
       "      <th>lot_shape</th>\n",
       "      <th>...</th>\n",
       "      <th>screen_porch</th>\n",
       "      <th>pool_area</th>\n",
       "      <th>pool_qc</th>\n",
       "      <th>fence</th>\n",
       "      <th>misc_feature</th>\n",
       "      <th>misc_val</th>\n",
       "      <th>mo_sold</th>\n",
       "      <th>yr_sold</th>\n",
       "      <th>sale_type</th>\n",
       "      <th>saleprice</th>\n",
       "    </tr>\n",
       "  </thead>\n",
       "  <tbody>\n",
       "    <tr>\n",
       "      <th>0</th>\n",
       "      <td>0</td>\n",
       "      <td>109</td>\n",
       "      <td>533352170</td>\n",
       "      <td>60</td>\n",
       "      <td>RL</td>\n",
       "      <td>0.0</td>\n",
       "      <td>13517</td>\n",
       "      <td>Pave</td>\n",
       "      <td>NaN</td>\n",
       "      <td>IR1</td>\n",
       "      <td>...</td>\n",
       "      <td>0</td>\n",
       "      <td>0</td>\n",
       "      <td>NaN</td>\n",
       "      <td>NaN</td>\n",
       "      <td>NaN</td>\n",
       "      <td>0</td>\n",
       "      <td>3</td>\n",
       "      <td>2010</td>\n",
       "      <td>WD</td>\n",
       "      <td>130500</td>\n",
       "    </tr>\n",
       "    <tr>\n",
       "      <th>1</th>\n",
       "      <td>1</td>\n",
       "      <td>544</td>\n",
       "      <td>531379050</td>\n",
       "      <td>60</td>\n",
       "      <td>RL</td>\n",
       "      <td>43.0</td>\n",
       "      <td>11492</td>\n",
       "      <td>Pave</td>\n",
       "      <td>NaN</td>\n",
       "      <td>IR1</td>\n",
       "      <td>...</td>\n",
       "      <td>0</td>\n",
       "      <td>0</td>\n",
       "      <td>NaN</td>\n",
       "      <td>NaN</td>\n",
       "      <td>NaN</td>\n",
       "      <td>0</td>\n",
       "      <td>4</td>\n",
       "      <td>2009</td>\n",
       "      <td>WD</td>\n",
       "      <td>220000</td>\n",
       "    </tr>\n",
       "    <tr>\n",
       "      <th>2</th>\n",
       "      <td>2</td>\n",
       "      <td>153</td>\n",
       "      <td>535304180</td>\n",
       "      <td>20</td>\n",
       "      <td>RL</td>\n",
       "      <td>68.0</td>\n",
       "      <td>7922</td>\n",
       "      <td>Pave</td>\n",
       "      <td>NaN</td>\n",
       "      <td>Reg</td>\n",
       "      <td>...</td>\n",
       "      <td>0</td>\n",
       "      <td>0</td>\n",
       "      <td>NaN</td>\n",
       "      <td>NaN</td>\n",
       "      <td>NaN</td>\n",
       "      <td>0</td>\n",
       "      <td>1</td>\n",
       "      <td>2010</td>\n",
       "      <td>WD</td>\n",
       "      <td>109000</td>\n",
       "    </tr>\n",
       "    <tr>\n",
       "      <th>3</th>\n",
       "      <td>3</td>\n",
       "      <td>318</td>\n",
       "      <td>916386060</td>\n",
       "      <td>60</td>\n",
       "      <td>RL</td>\n",
       "      <td>73.0</td>\n",
       "      <td>9802</td>\n",
       "      <td>Pave</td>\n",
       "      <td>NaN</td>\n",
       "      <td>Reg</td>\n",
       "      <td>...</td>\n",
       "      <td>0</td>\n",
       "      <td>0</td>\n",
       "      <td>NaN</td>\n",
       "      <td>NaN</td>\n",
       "      <td>NaN</td>\n",
       "      <td>0</td>\n",
       "      <td>4</td>\n",
       "      <td>2010</td>\n",
       "      <td>WD</td>\n",
       "      <td>174000</td>\n",
       "    </tr>\n",
       "    <tr>\n",
       "      <th>4</th>\n",
       "      <td>4</td>\n",
       "      <td>255</td>\n",
       "      <td>906425045</td>\n",
       "      <td>50</td>\n",
       "      <td>RL</td>\n",
       "      <td>82.0</td>\n",
       "      <td>14235</td>\n",
       "      <td>Pave</td>\n",
       "      <td>NaN</td>\n",
       "      <td>IR1</td>\n",
       "      <td>...</td>\n",
       "      <td>0</td>\n",
       "      <td>0</td>\n",
       "      <td>NaN</td>\n",
       "      <td>NaN</td>\n",
       "      <td>NaN</td>\n",
       "      <td>0</td>\n",
       "      <td>3</td>\n",
       "      <td>2010</td>\n",
       "      <td>WD</td>\n",
       "      <td>138500</td>\n",
       "    </tr>\n",
       "  </tbody>\n",
       "</table>\n",
       "<p>5 rows × 82 columns</p>\n",
       "</div>"
      ],
      "text/plain": [
       "   Unnamed: 0   id        pid  ms_subclass ms_zoning  lot_frontage  lot_area  \\\n",
       "0           0  109  533352170           60        RL           0.0     13517   \n",
       "1           1  544  531379050           60        RL          43.0     11492   \n",
       "2           2  153  535304180           20        RL          68.0      7922   \n",
       "3           3  318  916386060           60        RL          73.0      9802   \n",
       "4           4  255  906425045           50        RL          82.0     14235   \n",
       "\n",
       "  street alley lot_shape  ... screen_porch pool_area pool_qc fence  \\\n",
       "0   Pave   NaN       IR1  ...            0         0     NaN   NaN   \n",
       "1   Pave   NaN       IR1  ...            0         0     NaN   NaN   \n",
       "2   Pave   NaN       Reg  ...            0         0     NaN   NaN   \n",
       "3   Pave   NaN       Reg  ...            0         0     NaN   NaN   \n",
       "4   Pave   NaN       IR1  ...            0         0     NaN   NaN   \n",
       "\n",
       "  misc_feature misc_val mo_sold yr_sold sale_type  saleprice  \n",
       "0          NaN        0       3    2010       WD      130500  \n",
       "1          NaN        0       4    2009       WD      220000  \n",
       "2          NaN        0       1    2010       WD      109000  \n",
       "3          NaN        0       4    2010       WD      174000  \n",
       "4          NaN        0       3    2010       WD      138500  \n",
       "\n",
       "[5 rows x 82 columns]"
      ]
     },
     "execution_count": 4,
     "metadata": {},
     "output_type": "execute_result"
    }
   ],
   "source": [
    "clean_df.head()"
   ]
  },
  {
   "cell_type": "code",
   "execution_count": 5,
   "id": "c6daa9ab-d2b7-4659-94c6-6da4f4aeaeed",
   "metadata": {},
   "outputs": [
    {
     "data": {
      "text/plain": [
       "pool_qc         2039\n",
       "misc_feature    1983\n",
       "alley           1907\n",
       "fence           1648\n",
       "fireplace_qu    1000\n",
       "                ... \n",
       "id                 0\n",
       "heating_qc         0\n",
       "central_air        0\n",
       "electrical         0\n",
       "saleprice          0\n",
       "Length: 82, dtype: int64"
      ]
     },
     "execution_count": 5,
     "metadata": {},
     "output_type": "execute_result"
    }
   ],
   "source": [
    "clean_df.isna().sum().sort_values(ascending = False)"
   ]
  },
  {
   "cell_type": "code",
   "execution_count": 6,
   "id": "442536eb-ac41-40b5-b0e8-a86796939f3a",
   "metadata": {},
   "outputs": [
    {
     "data": {
      "text/plain": [
       "Index(['Unnamed: 0', 'id', 'pid', 'ms_subclass', 'ms_zoning', 'lot_frontage',\n",
       "       'lot_area', 'street', 'alley', 'lot_shape', 'land_contour', 'utilities',\n",
       "       'lot_config', 'land_slope', 'neighborhood', 'condition_1',\n",
       "       'condition_2', 'bldg_type', 'house_style', 'overall_qual',\n",
       "       'overall_cond', 'year_built', 'year_remod/add', 'roof_style',\n",
       "       'roof_matl', 'exterior_1st', 'exterior_2nd', 'mas_vnr_type',\n",
       "       'mas_vnr_area', 'exter_qual', 'exter_cond', 'foundation', 'bsmt_qual',\n",
       "       'bsmt_cond', 'bsmt_exposure', 'bsmtfin_type_1', 'bsmtfin_sf_1',\n",
       "       'bsmtfin_type_2', 'bsmtfin_sf_2', 'bsmt_unf_sf', 'total_bsmt_sf',\n",
       "       'heating', 'heating_qc', 'central_air', 'electrical', '1st_flr_sf',\n",
       "       '2nd_flr_sf', 'low_qual_fin_sf', 'gr_liv_area', 'bsmt_full_bath',\n",
       "       'bsmt_half_bath', 'full_bath', 'half_bath', 'bedroom_abvgr',\n",
       "       'kitchen_abvgr', 'kitchen_qual', 'totrms_abvgrd', 'functional',\n",
       "       'fireplaces', 'fireplace_qu', 'garage_type', 'garage_yr_blt',\n",
       "       'garage_finish', 'garage_cars', 'garage_area', 'garage_qual',\n",
       "       'garage_cond', 'paved_drive', 'wood_deck_sf', 'open_porch_sf',\n",
       "       'enclosed_porch', '3ssn_porch', 'screen_porch', 'pool_area', 'pool_qc',\n",
       "       'fence', 'misc_feature', 'misc_val', 'mo_sold', 'yr_sold', 'sale_type',\n",
       "       'saleprice'],\n",
       "      dtype='object')"
      ]
     },
     "execution_count": 6,
     "metadata": {},
     "output_type": "execute_result"
    }
   ],
   "source": [
    "clean_df.columns"
   ]
  },
  {
   "cell_type": "code",
   "execution_count": 7,
   "id": "4e6e82aa-08be-44ca-bc01-cbdca0e3bb1b",
   "metadata": {},
   "outputs": [
    {
     "data": {
      "text/plain": [
       "162500.0"
      ]
     },
     "execution_count": 7,
     "metadata": {},
     "output_type": "execute_result"
    }
   ],
   "source": [
    "# Create a basline model\n",
    "round(clean_df['saleprice'].median(),2)"
   ]
  },
  {
   "cell_type": "code",
   "execution_count": 8,
   "id": "fb5b3363-8ec4-40bf-97aa-6577a627e867",
   "metadata": {},
   "outputs": [],
   "source": [
    "\n",
    "baseline_df = pd.DataFrame(clean_df['saleprice'])"
   ]
  },
  {
   "cell_type": "code",
   "execution_count": 9,
   "id": "daec8fab-1095-415f-b6fc-26aea516400d",
   "metadata": {},
   "outputs": [
    {
     "data": {
      "text/html": [
       "<div>\n",
       "<style scoped>\n",
       "    .dataframe tbody tr th:only-of-type {\n",
       "        vertical-align: middle;\n",
       "    }\n",
       "\n",
       "    .dataframe tbody tr th {\n",
       "        vertical-align: top;\n",
       "    }\n",
       "\n",
       "    .dataframe thead th {\n",
       "        text-align: right;\n",
       "    }\n",
       "</style>\n",
       "<table border=\"1\" class=\"dataframe\">\n",
       "  <thead>\n",
       "    <tr style=\"text-align: right;\">\n",
       "      <th></th>\n",
       "      <th>saleprice</th>\n",
       "      <th>predict_saleprice</th>\n",
       "    </tr>\n",
       "  </thead>\n",
       "  <tbody>\n",
       "    <tr>\n",
       "      <th>0</th>\n",
       "      <td>130500</td>\n",
       "      <td>162500.0</td>\n",
       "    </tr>\n",
       "    <tr>\n",
       "      <th>1</th>\n",
       "      <td>220000</td>\n",
       "      <td>162500.0</td>\n",
       "    </tr>\n",
       "    <tr>\n",
       "      <th>2</th>\n",
       "      <td>109000</td>\n",
       "      <td>162500.0</td>\n",
       "    </tr>\n",
       "    <tr>\n",
       "      <th>3</th>\n",
       "      <td>174000</td>\n",
       "      <td>162500.0</td>\n",
       "    </tr>\n",
       "    <tr>\n",
       "      <th>4</th>\n",
       "      <td>138500</td>\n",
       "      <td>162500.0</td>\n",
       "    </tr>\n",
       "  </tbody>\n",
       "</table>\n",
       "</div>"
      ],
      "text/plain": [
       "   saleprice  predict_saleprice\n",
       "0     130500           162500.0\n",
       "1     220000           162500.0\n",
       "2     109000           162500.0\n",
       "3     174000           162500.0\n",
       "4     138500           162500.0"
      ]
     },
     "execution_count": 9,
     "metadata": {},
     "output_type": "execute_result"
    }
   ],
   "source": [
    "baseline_df['predict_saleprice'] = round(clean_df['saleprice'].median(),2)\n",
    "baseline_df.head()"
   ]
  },
  {
   "cell_type": "code",
   "execution_count": 10,
   "id": "9edd5e24-9dee-463c-b4dc-358a51471739",
   "metadata": {},
   "outputs": [
    {
     "data": {
      "text/plain": [
       "-0.05701863379506289"
      ]
     },
     "execution_count": 10,
     "metadata": {},
     "output_type": "execute_result"
    }
   ],
   "source": [
    "#R2 score Errors for Baseline Model\n",
    "r2_score(baseline_df['saleprice'], baseline_df['predict_saleprice'])"
   ]
  },
  {
   "cell_type": "code",
   "execution_count": 11,
   "id": "cfd8deb8-6d44-4316-849f-cb701a326858",
   "metadata": {},
   "outputs": [
    {
     "data": {
      "text/plain": [
       "81521.68767183187"
      ]
     },
     "execution_count": 11,
     "metadata": {},
     "output_type": "execute_result"
    }
   ],
   "source": [
    "#Root Meal Squared Error for Baseline Model\n",
    "mean_squared_error(baseline_df['saleprice'], baseline_df['predict_saleprice']) ** .5"
   ]
  },
  {
   "cell_type": "code",
   "execution_count": 12,
   "id": "1cac5629-69b2-47f3-ba92-81fd66340d93",
   "metadata": {},
   "outputs": [
    {
     "data": {
      "image/png": "[encoded data removed]",
      "text/plain": [
       "<Figure size 648x720 with 1 Axes>"
      ]
     },
     "metadata": {
      "needs_background": "light"
     },
     "output_type": "display_data"
    }
   ],
   "source": [
    "plt.figure(figsize = (9,10))\n",
    "sns.scatterplot(baseline_df['predict_saleprice'], y = baseline_df['saleprice'], color = 'blue')\n",
    "plt.plot(baseline_df['predict_saleprice'], baseline_df['predict_saleprice'], color = 'black')\n",
    "plt.title('Scatter Plot of True Price and Predicted Price, Baseline Model')\n",
    "plt.xlabel('True Price (in dollars)')\n",
    "plt.ylabel('Predicted Price (in dollars)')\n",
    "plt.yticks([0, 100_000, 200_000, 300_000, 400_000, 500_000, 600_000], \n",
    "                   ['0', '100,000', '200,000', '300,000', '400,000', '500,000', '600,000'],\n",
    "                    rotation = 45);"
   ]
  },
  {
   "cell_type": "code",
   "execution_count": 13,
   "id": "04aa1366-255d-4702-ae81-adea843e7327",
   "metadata": {
    "tags": []
   },
   "outputs": [],
   "source": [
    "#Pipeline that creates a DataFrame with the features to predict saleprice\n",
    "#then point to modeling function and then to create the Kaggle Submission function\n",
    " \n",
    "def pipeline(df):\n",
    "    \n",
    "    # Grab columns to include in my testing DataFrame\n",
    "    features               = ['overall_qual', 'year_built', 'year_remod/add', 'mas_vnr_area', 'neighborhood',\n",
    "                              'total_bsmt_sf', 'totrms_abvgrd', 'gr_liv_area', 'full_bath', 'garage_area', 'kitchen_qual',]\n",
    "    X                      = df[features]\n",
    "\n",
    "      \n",
    "\n",
    "    # Fill missing values with zero to denote the house has no garage or kitchen \n",
    "    X.fillna(0,inplace=True)    \n",
    "    \n",
    "    # Group neigborhoods - above 75% 5(mean above 214_000); middle 50% 3(between 214_000 and 130_000), bottom 25% 1(below 130_000)\n",
    "    X['neighborhood']      = X['neighborhood'].map({'NAmes'   : 3,\n",
    "                                                    'CollgCr' : 3,\n",
    "                                                    'OldTown' : 1,\n",
    "                                                    'Edwards' : 1,\n",
    "                                                    'Somerst' : 5,\n",
    "                                                    'NridgHt' : 5,\n",
    "                                                    'Gilbert' : 3,\n",
    "                                                    'Sawyer'  : 3,\n",
    "                                                    'SawyerW' : 3,\n",
    "                                                    'NWAmes'  : 3,\n",
    "                                                    'Mitchel' : 3,\n",
    "                                                    'BrkSide' : 1,\n",
    "                                                    'Crawfor' : 3,\n",
    "                                                    'IDOTRR'  : 1,\n",
    "                                                    'NoRidge' : 5,\n",
    "                                                    'Timber'  : 5,\n",
    "                                                    'StoneBr' : 5,\n",
    "                                                    'SWISU'   : 3,\n",
    "                                                    'ClearCr' : 5,\n",
    "                                                    'MeadowV' : 1,\n",
    "                                                    'Blmngtn' : 3,\n",
    "                                                    'BrDale'  : 1,\n",
    "                                                    'NPkVill' : 3,\n",
    "                                                    'Veenker' : 5,\n",
    "                                                    'Blueste' : 3,\n",
    "                                                    'Greens'  : 3,\n",
    "                                                    'GrnHill' : 5,\n",
    "                                                    'Landmrk' : 3})\n",
    "                                                                                         \n",
    "    # extrapolate age from dataset creation minus year built \n",
    "    X['year_built']         = 2010 - X['year_built']\n",
    "    X['year_remod/add']     = 2010 - X['year_remod/add']\n",
    "    \n",
    "    # map values for kitchen\n",
    "    X['kitchen_qual']      = X['kitchen_qual'].map({'Ex': 5, 'Gd': 4, 'TA': 3, 'Fa': 2, 'Po': 1})\n",
    "    \n",
    " \n",
    "    # Feature interactions go here\n",
    "#    X['overall_cond/overall_qual'] = X['overall_cond'] * X['overall_qual']\n",
    "\n",
    "    # Columns to drop *** only run this once with inplace, right before I am ready to model....\n",
    "#    X.drop(columns          = ['overall_cond', 'overall_qual'], inplace = True)\n",
    "\n",
    "    return X\n",
    "    \n",
    "       "
   ]
  },
  {
   "cell_type": "code",
   "execution_count": 14,
   "id": "ffca9b70-2265-450d-b985-d87800d83a98",
   "metadata": {},
   "outputs": [],
   "source": [
    "model = pipeline(clean_df)"
   ]
  },
  {
   "cell_type": "code",
   "execution_count": 15,
   "id": "760c1057-1d13-4b72-afa4-8e92bc257e16",
   "metadata": {},
   "outputs": [
    {
     "data": {
      "text/plain": [
       "(2047, 11)"
      ]
     },
     "execution_count": 15,
     "metadata": {},
     "output_type": "execute_result"
    }
   ],
   "source": [
    "model.shape"
   ]
  },
  {
   "cell_type": "code",
   "execution_count": 16,
   "id": "f9da0208-a4c9-4e95-87c3-65b05b860a7a",
   "metadata": {},
   "outputs": [
    {
     "data": {
      "text/plain": [
       "overall_qual      0\n",
       "year_built        0\n",
       "year_remod/add    0\n",
       "mas_vnr_area      0\n",
       "neighborhood      0\n",
       "total_bsmt_sf     0\n",
       "totrms_abvgrd     0\n",
       "gr_liv_area       0\n",
       "full_bath         0\n",
       "garage_area       0\n",
       "kitchen_qual      0\n",
       "dtype: int64"
      ]
     },
     "execution_count": 16,
     "metadata": {},
     "output_type": "execute_result"
    }
   ],
   "source": [
    "model.isna().sum()"
   ]
  },
  {
   "cell_type": "code",
   "execution_count": 17,
   "id": "defa7235-d4a4-49e5-a2b3-6f645a3bce17",
   "metadata": {
    "tags": []
   },
   "outputs": [
    {
     "data": {
      "text/html": [
       "<div>\n",
       "<style scoped>\n",
       "    .dataframe tbody tr th:only-of-type {\n",
       "        vertical-align: middle;\n",
       "    }\n",
       "\n",
       "    .dataframe tbody tr th {\n",
       "        vertical-align: top;\n",
       "    }\n",
       "\n",
       "    .dataframe thead th {\n",
       "        text-align: right;\n",
       "    }\n",
       "</style>\n",
       "<table border=\"1\" class=\"dataframe\">\n",
       "  <thead>\n",
       "    <tr style=\"text-align: right;\">\n",
       "      <th></th>\n",
       "      <th>overall_qual</th>\n",
       "      <th>year_built</th>\n",
       "      <th>year_remod/add</th>\n",
       "      <th>mas_vnr_area</th>\n",
       "      <th>neighborhood</th>\n",
       "      <th>total_bsmt_sf</th>\n",
       "      <th>totrms_abvgrd</th>\n",
       "      <th>gr_liv_area</th>\n",
       "      <th>full_bath</th>\n",
       "      <th>garage_area</th>\n",
       "      <th>kitchen_qual</th>\n",
       "    </tr>\n",
       "  </thead>\n",
       "  <tbody>\n",
       "    <tr>\n",
       "      <th>0</th>\n",
       "      <td>6</td>\n",
       "      <td>34</td>\n",
       "      <td>5</td>\n",
       "      <td>289.0</td>\n",
       "      <td>3</td>\n",
       "      <td>725.0</td>\n",
       "      <td>6</td>\n",
       "      <td>1479</td>\n",
       "      <td>2</td>\n",
       "      <td>475.0</td>\n",
       "      <td>4</td>\n",
       "    </tr>\n",
       "    <tr>\n",
       "      <th>1</th>\n",
       "      <td>7</td>\n",
       "      <td>14</td>\n",
       "      <td>13</td>\n",
       "      <td>132.0</td>\n",
       "      <td>3</td>\n",
       "      <td>913.0</td>\n",
       "      <td>8</td>\n",
       "      <td>2122</td>\n",
       "      <td>2</td>\n",
       "      <td>559.0</td>\n",
       "      <td>4</td>\n",
       "    </tr>\n",
       "    <tr>\n",
       "      <th>2</th>\n",
       "      <td>5</td>\n",
       "      <td>57</td>\n",
       "      <td>3</td>\n",
       "      <td>0.0</td>\n",
       "      <td>3</td>\n",
       "      <td>1057.0</td>\n",
       "      <td>5</td>\n",
       "      <td>1057</td>\n",
       "      <td>1</td>\n",
       "      <td>246.0</td>\n",
       "      <td>4</td>\n",
       "    </tr>\n",
       "    <tr>\n",
       "      <th>3</th>\n",
       "      <td>5</td>\n",
       "      <td>4</td>\n",
       "      <td>3</td>\n",
       "      <td>0.0</td>\n",
       "      <td>5</td>\n",
       "      <td>384.0</td>\n",
       "      <td>7</td>\n",
       "      <td>1444</td>\n",
       "      <td>2</td>\n",
       "      <td>400.0</td>\n",
       "      <td>3</td>\n",
       "    </tr>\n",
       "    <tr>\n",
       "      <th>4</th>\n",
       "      <td>6</td>\n",
       "      <td>110</td>\n",
       "      <td>17</td>\n",
       "      <td>0.0</td>\n",
       "      <td>3</td>\n",
       "      <td>676.0</td>\n",
       "      <td>6</td>\n",
       "      <td>1445</td>\n",
       "      <td>2</td>\n",
       "      <td>484.0</td>\n",
       "      <td>3</td>\n",
       "    </tr>\n",
       "  </tbody>\n",
       "</table>\n",
       "</div>"
      ],
      "text/plain": [
       "   overall_qual  year_built  year_remod/add  mas_vnr_area  neighborhood  \\\n",
       "0             6          34               5         289.0             3   \n",
       "1             7          14              13         132.0             3   \n",
       "2             5          57               3           0.0             3   \n",
       "3             5           4               3           0.0             5   \n",
       "4             6         110              17           0.0             3   \n",
       "\n",
       "   total_bsmt_sf  totrms_abvgrd  gr_liv_area  full_bath  garage_area  \\\n",
       "0          725.0              6         1479          2        475.0   \n",
       "1          913.0              8         2122          2        559.0   \n",
       "2         1057.0              5         1057          1        246.0   \n",
       "3          384.0              7         1444          2        400.0   \n",
       "4          676.0              6         1445          2        484.0   \n",
       "\n",
       "   kitchen_qual  \n",
       "0             4  \n",
       "1             4  \n",
       "2             4  \n",
       "3             3  \n",
       "4             3  "
      ]
     },
     "execution_count": 17,
     "metadata": {},
     "output_type": "execute_result"
    }
   ],
   "source": [
    "model.head()"
   ]
  },
  {
   "cell_type": "code",
   "execution_count": 18,
   "id": "8a545694-fc6b-47f5-b4b5-4226079ef3bb",
   "metadata": {},
   "outputs": [
    {
     "name": "stdout",
     "output_type": "stream",
     "text": [
      "<class 'pandas.core.frame.DataFrame'>\n",
      "RangeIndex: 2047 entries, 0 to 2046\n",
      "Data columns (total 11 columns):\n",
      " #   Column          Non-Null Count  Dtype  \n",
      "---  ------          --------------  -----  \n",
      " 0   overall_qual    2047 non-null   int64  \n",
      " 1   year_built      2047 non-null   int64  \n",
      " 2   year_remod/add  2047 non-null   int64  \n",
      " 3   mas_vnr_area    2047 non-null   float64\n",
      " 4   neighborhood    2047 non-null   int64  \n",
      " 5   total_bsmt_sf   2047 non-null   float64\n",
      " 6   totrms_abvgrd   2047 non-null   int64  \n",
      " 7   gr_liv_area     2047 non-null   int64  \n",
      " 8   full_bath       2047 non-null   int64  \n",
      " 9   garage_area     2047 non-null   float64\n",
      " 10  kitchen_qual    2047 non-null   int64  \n",
      "dtypes: float64(3), int64(8)\n",
      "memory usage: 176.0 KB\n"
     ]
    }
   ],
   "source": [
    "model.info()"
   ]
  },
  {
   "cell_type": "code",
   "execution_count": 19,
   "id": "3e671ef8-c1d0-4bc2-a912-0490bfb0b11e",
   "metadata": {
    "tags": []
   },
   "outputs": [],
   "source": [
    "def model_maker(X, y, model_type):\n",
    "    '''This function is used to create a model and print out the R2 scores and cross val R2 scores on training and testing data.\n",
    "    Keyword Arguments:\n",
    "    X =  DataFrame of features\n",
    "    y =  series of target\n",
    "    model_type = string name of model type 'lr', 'ridge_cv','lasso'\n",
    "    Returns model,'''\n",
    "\n",
    "    # split the data into training and testing.\n",
    "    X_train, X_test, y_train, y_test = train_test_split(X, y, train_size = 0.7, random_state = 3)\n",
    "\n",
    "    if model_type == 'lr':    \n",
    "#         # split the data into training and testing.\n",
    "#         X_train, X_test, y_train, y_test = train_test_split(X, y, train_size = 0.7, random_state = 3)\n",
    "\n",
    "        # Instantiate model\n",
    "        lr = LinearRegression() \n",
    "        \n",
    "        # Fit model\n",
    "        lr.fit(X_train,y_train)    \n",
    "\n",
    "        \n",
    "\n",
    "        # Print Errors\n",
    "        print(f'Model: {model_type}')\n",
    "        print(f'Training Score: {lr.score(X_train, y_train)}')\n",
    "        print(f'Testing Score: {lr.score(X_test, y_test)}')\n",
    "        print(f'Cross Val Score - training: {cross_val_score(lr, X_train, y_train).mean()}')\n",
    "        print(f'Cross Val Score - testing: {cross_val_score(lr, X_test, y_test).mean()}')\n",
    "        print(f'Root Mean Square Error: train: {mean_squared_error(y_train, lr.predict(X_train)) ** .5}')\n",
    "        print(f'Root Mean Square Error: test: {mean_squared_error(y_test, lr.predict(X_test)) ** .5}')\n",
    "\n",
    "        plt.figure(figsize = (9,10))\n",
    "        sns.scatterplot(lr.predict(X_test), y = y_test, color = 'blue')\n",
    "        plt.plot(lr.predict(X_test), lr.predict(X_test), color = 'black')\n",
    "        plt.title('Scatter Plot of True Price and Predicted Price, Linear Regression')\n",
    "        plt.xlabel('True Price (in dollars)')\n",
    "        plt.xticks([0, 100_000, 200_000, 300_000, 400_000], ['0', '100,000', '200,000', '300,000', '400,000'])\n",
    "        plt.ylabel('Predicted Price (in dollars)')\n",
    "        plt.yticks([0, 100_000, 200_000, 300_000, 400_000, 500_000, 600_000], \n",
    "                   ['0', '100,000', '200,000', '300,000', '400,000', '500,000', '600,000'],\n",
    "                    rotation = 45);\n",
    "        return lr\n",
    "    else:\n",
    "        # Instantiate Polynomial Features\n",
    "        poly = PolynomialFeatures( interaction_only = False, include_bias = False)\n",
    "\n",
    "        # fit and transform poly data with poly\n",
    "        X_overfit = poly.fit_transform(X)\n",
    "        \n",
    "        # split the data into training and testing.\n",
    "        X_train_poly, X_test_poly, y_train, y_test = train_test_split(X_overfit, y, train_size = 0.7, random_state = 3) \n",
    "\n",
    "        # standardize the data\n",
    "        sc = StandardScaler()\n",
    "        X_train_poly_sc = sc.fit_transform(X_train_poly)\n",
    "        X_test_poly_sc = sc.transform(X_test_poly)\n",
    "        \n",
    "        # Model based on the method\n",
    "        if model_type == 'ols':\n",
    "            ols = LinearRegression()\n",
    "            ols.fit(X_train_poly_sc, y_train)\n",
    " \n",
    "            #Print R2 scores\n",
    "            print(f'Model: {model_type}')\n",
    "            print(f'Training Score: {ols.score(X_train_poly_sc, y_train)}')\n",
    "            print(f'Testing Score: {ols.score(X_test_poly_sc, y_test)}')\n",
    "            print(f'Cross Val Score - training: {cross_val_score(ols, X_train_poly_sc, y_train).mean()}')\n",
    "            print(f'Cross Val Score - testing: {cross_val_score(ols, X_test_poly_sc, y_test).mean()}')\n",
    "\n",
    "            return ols\n",
    "\n",
    "\n",
    "        if model_type == 'ridge_cv':\n",
    "            #create alphas between 10^0, 10^5\n",
    "            r_alphas = np.logspace(0, 5, 100)\n",
    "            \n",
    "            # Cross_validate over the list of ridge alphas\n",
    "            ridge_cv = RidgeCV(alphas = r_alphas, scoring = 'r2', cv = 5)\n",
    "            \n",
    "            # fit the model using the best ridge alphas\n",
    "            ridge_cv.fit(X_train_poly_sc, y_train)\n",
    "\n",
    "            #Calculate Predictions\n",
    "            preds = ridge_cv.predict(X_test_poly_sc)\n",
    "            \n",
    "            #Print R2 scores\n",
    "            print(f'Model: {model_type}')\n",
    "            print(f'Training Score: {ridge_cv.score(X_train_poly_sc, y_train)}')\n",
    "            print(f'Testing Score: {ridge_cv.score(X_test_poly_sc, y_test)}')\n",
    "            print(f'Cross Val Score - training: {cross_val_score(ridge_cv, X_train_poly_sc, y_train).mean()}')\n",
    "            print(f'Cross Val Score - testing: {cross_val_score(ridge_cv, X_test_poly_sc, y_test).mean()}')\n",
    "            print(f'Root Mean Square Error: train: {mean_squared_error(y_train, ridge_cv.predict(X_train_poly_sc)) ** .5}')\n",
    "            print(f'Root Mean Square Error: test: {mean_squared_error(y_test, ridge_cv.predict(X_test_poly_sc)) ** .5}')\n",
    "\n",
    "            plt.figure(figsize = (9,10))\n",
    "            sns.scatterplot(preds, y = y_test, color = 'blue')\n",
    "            plt.plot(preds, preds, color = 'black')\n",
    "            plt.title('Scatter Plot of True Price and Predicted Price, Linear Regression with Regularization')\n",
    "            plt.xlabel('True Price (in dollars)')\n",
    "            plt.ylabel('Predicted Price (in dollars)')\n",
    "            plt.yticks([0, 100_000, 200_000, 300_000, 400_000, 500_000, 600_000], \n",
    "                      ['0', '100,000', '200,000', '300,000', '400,000', '500,000', '600,000'],\n",
    "                      rotation = 45);\n",
    "            \n",
    "            return (ridge_cv, sc)\n",
    "        \n",
    "        elif model_type == 'lasso':\n",
    "            # create a list of Lasso alphas to check\n",
    "            l_alphas = np.logspace(-3, 0 , 100)\n",
    "            \n",
    "            # Cross-validate over the list of Lasso Alphas\n",
    "            lasso_cv = LassoCV(alphas = l_alphas, cv = 5, max_iter = 100_000)\n",
    "            \n",
    "            # fit model using best ridge aplha!\n",
    "            lasso_cv.fit(X_train_poly_sc, y_train)\n",
    "            \n",
    "            #Calculate Predictions\n",
    "            preds = lasso_cv.predict(X_test_poly_sc)\n",
    "            \n",
    "            #Print R2 scores\n",
    "            print(f'Model: {model_type}')\n",
    "            print(f'Training Score: {lasso_cv.score(X_train_poly_sc, y_train)}')\n",
    "            print(f'Testing Score: {lasso_cv.score(X_test_poly_sc, y_test)}')\n",
    "#            commented these out because it takes a long time to run\n",
    "#            print(f'Cross Val Score - training: {cross_val_score(lasso_cv, X_train_poly_sc, y_train).mean()}')\n",
    "#            print(f'Cross Val Score - testing: {cross_val_score(lasso_cv, X_test_poly_sc, y_test).mean()}')\n",
    "            print(f'Root Mean Square Error: train: {mean_squared_error(y_train, lasso_cv.predict(X_train_poly_sc)) ** .5}')\n",
    "            print(f'Root Mean Square Error: test: {mean_squared_error(y_test, lasso_cv.predict(X_test_poly_sc)) ** .5}')\n",
    "\n",
    "            plt.figure(figsize = (9,10))\n",
    "            sns.scatterplot(preds, y = y_test, color = 'blue')\n",
    "            plt.plot(preds, preds, color = 'black',)\n",
    "            plt.title('Scatter Plot of True Price and Predicted Price, Linear Regression with Regularization')\n",
    "            plt.xlabel('True Price (in dollars)')\n",
    "            plt.ylabel('Predicted Price (in dollars)')\n",
    "            plt.xticks([0, 100_000, 200_000, 300_000, 400_000, 500_000, 600_000], ['0', '100,000', '200,000', '300,000', '400,000',  '500,000', '600,000'])\n",
    "            plt.yticks([0, 100_000, 200_000, 300_000, 400_000, 500_000, 600_000], \n",
    "                       ['0', '100,000', '200,000', '300,000', '400,000', '500,000', '600,000'],\n",
    "                       rotation = 45);\n",
    "            return (lasso_cv, sc, poly, preds)          "
   ]
  },
  {
   "cell_type": "code",
   "execution_count": 20,
   "id": "26013c37-61f2-4800-887a-01adf857f5c0",
   "metadata": {
    "tags": []
   },
   "outputs": [
    {
     "name": "stdout",
     "output_type": "stream",
     "text": [
      "Model: lr\n",
      "Training Score: 0.8454700564859379\n",
      "Testing Score: 0.8642679757209912\n",
      "Cross Val Score - training: 0.8414580150163022\n",
      "Cross Val Score - testing: 0.8661809799898439\n",
      "Root Mean Square Error: train: 30297.539163742156\n",
      "Root Mean Square Error: test: 31016.293503503108\n"
     ]
    },
    {
     "data": {
      "image/png": "[encoded data removed]",
      "text/plain": [
       "<Figure size 648x720 with 1 Axes>"
      ]
     },
     "metadata": {
      "needs_background": "light"
     },
     "output_type": "display_data"
    }
   ],
   "source": [
    "fit_model_lr = model_maker(model, clean_df['saleprice'],'lr')\n"
   ]
  },
  {
   "cell_type": "markdown",
   "id": "6b8cb599-6005-47f4-93fc-e7997f5bef47",
   "metadata": {},
   "source": [
    "Interpretation: \n",
    "* Since the R2 score for the testing data is greater than the training data, that means the model is underfit. To add further complexity, polynomial features along with Ridge and Lasso are used below.\n",
    "* The r2 score also tells us that 90% of the variance is explained by the features.\n",
    "* RMSE - means that the predicted sale price is off by around 30,000 dollars for both the training and testing data.\n",
    "* The scatter plot of the true price and predicted price shows that the data is a little curved. Adding polynomial features can help straighten the line.\n"
   ]
  },
  {
   "cell_type": "code",
   "execution_count": 21,
   "id": "f7780854-8bb1-4f0a-b193-ceac318358d7",
   "metadata": {},
   "outputs": [
    {
     "data": {
      "text/plain": [
       "['overall_qual',\n",
       " 'year_built',\n",
       " 'year_remod/add',\n",
       " 'mas_vnr_area',\n",
       " 'neighborhood',\n",
       " 'total_bsmt_sf',\n",
       " 'totrms_abvgrd',\n",
       " 'gr_liv_area',\n",
       " 'full_bath',\n",
       " 'garage_area',\n",
       " 'kitchen_qual']"
      ]
     },
     "execution_count": 21,
     "metadata": {},
     "output_type": "execute_result"
    }
   ],
   "source": [
    "features = list(model)\n",
    "features"
   ]
  },
  {
   "cell_type": "code",
   "execution_count": 22,
   "id": "35c46634-2b7c-4c2e-a040-eb1da9da932e",
   "metadata": {
    "tags": []
   },
   "outputs": [],
   "source": [
    "coef_lr = pd.DataFrame(list(zip(features, fit_model_lr.coef_)), columns = ['features', 'coef'])"
   ]
  },
  {
   "cell_type": "code",
   "execution_count": 23,
   "id": "cf26cfe4-07b2-4654-a530-1b70b65fa86f",
   "metadata": {},
   "outputs": [
    {
     "data": {
      "text/html": [
       "<div>\n",
       "<style scoped>\n",
       "    .dataframe tbody tr th:only-of-type {\n",
       "        vertical-align: middle;\n",
       "    }\n",
       "\n",
       "    .dataframe tbody tr th {\n",
       "        vertical-align: top;\n",
       "    }\n",
       "\n",
       "    .dataframe thead th {\n",
       "        text-align: right;\n",
       "    }\n",
       "</style>\n",
       "<table border=\"1\" class=\"dataframe\">\n",
       "  <thead>\n",
       "    <tr style=\"text-align: right;\">\n",
       "      <th></th>\n",
       "      <th>features</th>\n",
       "      <th>coef</th>\n",
       "    </tr>\n",
       "  </thead>\n",
       "  <tbody>\n",
       "    <tr>\n",
       "      <th>8</th>\n",
       "      <td>full_bath</td>\n",
       "      <td>-9209.535909</td>\n",
       "    </tr>\n",
       "    <tr>\n",
       "      <th>6</th>\n",
       "      <td>totrms_abvgrd</td>\n",
       "      <td>-855.507708</td>\n",
       "    </tr>\n",
       "    <tr>\n",
       "      <th>2</th>\n",
       "      <td>year_remod/add</td>\n",
       "      <td>-231.255266</td>\n",
       "    </tr>\n",
       "    <tr>\n",
       "      <th>1</th>\n",
       "      <td>year_built</td>\n",
       "      <td>-53.213769</td>\n",
       "    </tr>\n",
       "    <tr>\n",
       "      <th>3</th>\n",
       "      <td>mas_vnr_area</td>\n",
       "      <td>32.277973</td>\n",
       "    </tr>\n",
       "    <tr>\n",
       "      <th>9</th>\n",
       "      <td>garage_area</td>\n",
       "      <td>33.260581</td>\n",
       "    </tr>\n",
       "    <tr>\n",
       "      <th>5</th>\n",
       "      <td>total_bsmt_sf</td>\n",
       "      <td>37.325644</td>\n",
       "    </tr>\n",
       "    <tr>\n",
       "      <th>7</th>\n",
       "      <td>gr_liv_area</td>\n",
       "      <td>58.446753</td>\n",
       "    </tr>\n",
       "    <tr>\n",
       "      <th>4</th>\n",
       "      <td>neighborhood</td>\n",
       "      <td>6219.516268</td>\n",
       "    </tr>\n",
       "    <tr>\n",
       "      <th>0</th>\n",
       "      <td>overall_qual</td>\n",
       "      <td>12466.549288</td>\n",
       "    </tr>\n",
       "    <tr>\n",
       "      <th>10</th>\n",
       "      <td>kitchen_qual</td>\n",
       "      <td>18853.144009</td>\n",
       "    </tr>\n",
       "  </tbody>\n",
       "</table>\n",
       "</div>"
      ],
      "text/plain": [
       "          features          coef\n",
       "8        full_bath  -9209.535909\n",
       "6    totrms_abvgrd   -855.507708\n",
       "2   year_remod/add   -231.255266\n",
       "1       year_built    -53.213769\n",
       "3     mas_vnr_area     32.277973\n",
       "9      garage_area     33.260581\n",
       "5    total_bsmt_sf     37.325644\n",
       "7      gr_liv_area     58.446753\n",
       "4     neighborhood   6219.516268\n",
       "0     overall_qual  12466.549288\n",
       "10    kitchen_qual  18853.144009"
      ]
     },
     "execution_count": 23,
     "metadata": {},
     "output_type": "execute_result"
    }
   ],
   "source": [
    "coef_lr.sort_values('coef')"
   ]
  },
  {
   "cell_type": "markdown",
   "id": "d476e6ed-d117-40c5-a7ba-ca9c5598cba6",
   "metadata": {},
   "source": [
    "Interpretation:\n",
    "* Most positive coefficients:\n",
    "  * Kitchen_qual : When all else is held constant, 1 dollar spent in the kitchen will increase the value of the house by 18_850 dollars.\n",
    "  * Overall_qual : When all else is held constant, 1 dollar spent on the overall quality will increase the value of the house by 12_500 dollars.\n",
    "* Most negative coefficients:\n",
    "  * Full_bath : When all else is held constant, for each additional full bath, the value of the house will decrease around 9_000 dollars.\n"
   ]
  },
  {
   "cell_type": "code",
   "execution_count": 24,
   "id": "926f1303-99f3-466e-af62-a4b38b109612",
   "metadata": {},
   "outputs": [
    {
     "data": {
      "text/plain": [
       "-97241.72383380783"
      ]
     },
     "execution_count": 24,
     "metadata": {},
     "output_type": "execute_result"
    }
   ],
   "source": [
    "fit_model_lr.intercept_"
   ]
  },
  {
   "cell_type": "markdown",
   "id": "7a68eae0-9af2-4937-b964-e2e07a42040f",
   "metadata": {},
   "source": [
    "Interpretation:\n",
    "The starting sale price is around -97,241 dollars (which doesn't make sense)"
   ]
  },
  {
   "cell_type": "code",
   "execution_count": 25,
   "id": "844e23be-5575-44ee-8ce8-c257b4a769f1",
   "metadata": {
    "tags": []
   },
   "outputs": [
    {
     "name": "stdout",
     "output_type": "stream",
     "text": [
      "Model: ridge_cv\n",
      "Training Score: 0.8960759747157779\n",
      "Testing Score: 0.9095207715948826\n",
      "Cross Val Score - training: 0.8807804472649312\n",
      "Cross Val Score - testing: 0.9135354425081734\n",
      "Root Mean Square Error: train: 24846.144837288626\n",
      "Root Mean Square Error: test: 25323.46785959504\n"
     ]
    },
    {
     "data": {
      "image/png": "[encoded data removed]",
      "text/plain": [
       "<Figure size 648x720 with 1 Axes>"
      ]
     },
     "metadata": {
      "needs_background": "light"
     },
     "output_type": "display_data"
    }
   ],
   "source": [
    "fit_model_ridge = model_maker(model, clean_df['saleprice'],'ridge_cv')"
   ]
  },
  {
   "cell_type": "markdown",
   "id": "56dd54a0-7658-48d4-a6c3-8363751ed41b",
   "metadata": {},
   "source": [
    "Interpretation:\n",
    "\n",
    "Since the R2 score for the testing data is greater than the training data, that means the model is underfit. The ridge model is less underfit than the origin model. To add further complexity, polynomial features along with Lasso are used below. The r2 score also tells us that 90% of the variance is explained by the features.\n",
    "RMSE - means that the predicted sale price is off by around 25,000 dollars for both the training and testing data.\n",
    "The scatter plot of the true price and predicted price shows that the data is a little curved. Adding polynomial features can help straighten the line."
   ]
  },
  {
   "cell_type": "code",
   "execution_count": 26,
   "id": "f5457ea3-b780-47ab-993c-6788909942e6",
   "metadata": {},
   "outputs": [
    {
     "data": {
      "text/plain": [
       "180425.62569832403"
      ]
     },
     "execution_count": 26,
     "metadata": {},
     "output_type": "execute_result"
    }
   ],
   "source": [
    "fit_model_ridge[0].intercept_"
   ]
  },
  {
   "cell_type": "markdown",
   "id": "0337252a-73a9-480c-9ee4-2aa4de798f13",
   "metadata": {
    "tags": []
   },
   "source": [
    "Interpretation:\n",
    "The starting sale price is around 180,425 dollars."
   ]
  },
  {
   "cell_type": "code",
   "execution_count": 27,
   "id": "31d941fa-293f-4c75-b481-9a90e2b9cdeb",
   "metadata": {},
   "outputs": [
    {
     "name": "stdout",
     "output_type": "stream",
     "text": [
      "Model: lasso\n",
      "Training Score: 0.9035592094495561\n",
      "Testing Score: 0.9061581985399926\n",
      "Root Mean Square Error: train: 23934.888764813535\n",
      "Root Mean Square Error: test: 25789.736374627915\n"
     ]
    },
    {
     "data": {
      "image/png": "[encoded data removed]",
      "text/plain": [
       "<Figure size 648x720 with 1 Axes>"
      ]
     },
     "metadata": {
      "needs_background": "light"
     },
     "output_type": "display_data"
    }
   ],
   "source": [
    "fit_model_lasso = model_maker(model, clean_df['saleprice'],'lasso')"
   ]
  },
  {
   "cell_type": "markdown",
   "id": "cbc2e5d1-1130-45b3-8e9e-167d16530203",
   "metadata": {},
   "source": [
    "Interpretation:\n",
    "\n",
    "Since the R2 score for the testing data is greater by only .3%, the model seems to be hitting the sweet spot between underfit compared to overfit. To add further complexity, polynomial features along with Ridge and Lasso are used below.The r2 score also tells us that 90% of the variance is explained by the features.\n",
    "RMSE - means that the predicted sale price is off by around 25,000 dollars for both the training and testing data.\n",
    "The scatter plot of the true price and predicted price shows that the data is a little curved. Adding polynomial features seemed to help straighten the line.\n",
    "However the predicted sale price still is off by a lot of money, plus or minus 25,000 dollars"
   ]
  },
  {
   "cell_type": "code",
   "execution_count": 28,
   "id": "96786ff5-1d1d-4fd1-a9ec-cc5a3f8224c7",
   "metadata": {},
   "outputs": [
    {
     "data": {
      "text/plain": [
       "['overall_qual', 'year_built']"
      ]
     },
     "execution_count": 28,
     "metadata": {},
     "output_type": "execute_result"
    }
   ],
   "source": [
    "fit_model_lasso[2].get_feature_names(model.columns)[:2]"
   ]
  },
  {
   "cell_type": "code",
   "execution_count": 29,
   "id": "2d50fb53-07a7-4c43-8016-9ac0de54c3ea",
   "metadata": {},
   "outputs": [],
   "source": [
    "coef_lasso = pd.DataFrame(list(zip(fit_model_lasso[2].get_feature_names(model.columns), fit_model_lasso[0].coef_)), columns = ['features', 'coef'])"
   ]
  },
  {
   "cell_type": "code",
   "execution_count": 30,
   "id": "3362eaad-d6e0-49b0-bcb5-a44a3f675cc7",
   "metadata": {},
   "outputs": [
    {
     "data": {
      "text/html": [
       "<div>\n",
       "<style scoped>\n",
       "    .dataframe tbody tr th:only-of-type {\n",
       "        vertical-align: middle;\n",
       "    }\n",
       "\n",
       "    .dataframe tbody tr th {\n",
       "        vertical-align: top;\n",
       "    }\n",
       "\n",
       "    .dataframe thead th {\n",
       "        text-align: right;\n",
       "    }\n",
       "</style>\n",
       "<table border=\"1\" class=\"dataframe\">\n",
       "  <thead>\n",
       "    <tr style=\"text-align: right;\">\n",
       "      <th></th>\n",
       "      <th>features</th>\n",
       "      <th>coef</th>\n",
       "    </tr>\n",
       "  </thead>\n",
       "  <tbody>\n",
       "    <tr>\n",
       "      <th>63</th>\n",
       "      <td>totrms_abvgrd gr_liv_area</td>\n",
       "      <td>-69253.106896</td>\n",
       "    </tr>\n",
       "    <tr>\n",
       "      <th>10</th>\n",
       "      <td>kitchen_qual</td>\n",
       "      <td>-53464.715580</td>\n",
       "    </tr>\n",
       "    <tr>\n",
       "      <th>6</th>\n",
       "      <td>totrms_abvgrd</td>\n",
       "      <td>-22709.013735</td>\n",
       "    </tr>\n",
       "    <tr>\n",
       "      <th>1</th>\n",
       "      <td>year_built</td>\n",
       "      <td>-20313.754728</td>\n",
       "    </tr>\n",
       "    <tr>\n",
       "      <th>19</th>\n",
       "      <td>overall_qual full_bath</td>\n",
       "      <td>-19429.697878</td>\n",
       "    </tr>\n",
       "  </tbody>\n",
       "</table>\n",
       "</div>"
      ],
      "text/plain": [
       "                     features          coef\n",
       "63  totrms_abvgrd gr_liv_area -69253.106896\n",
       "10               kitchen_qual -53464.715580\n",
       "6               totrms_abvgrd -22709.013735\n",
       "1                  year_built -20313.754728\n",
       "19     overall_qual full_bath -19429.697878"
      ]
     },
     "execution_count": 30,
     "metadata": {},
     "output_type": "execute_result"
    }
   ],
   "source": [
    "# featuers that have the largest negative coefficents\n",
    "coef_lasso.sort_values(by = 'coef' ).head()"
   ]
  },
  {
   "cell_type": "code",
   "execution_count": 31,
   "id": "a6f86813-617f-4bff-87da-34508f36b3d7",
   "metadata": {},
   "outputs": [
    {
     "data": {
      "text/html": [
       "<div>\n",
       "<style scoped>\n",
       "    .dataframe tbody tr th:only-of-type {\n",
       "        vertical-align: middle;\n",
       "    }\n",
       "\n",
       "    .dataframe tbody tr th {\n",
       "        vertical-align: top;\n",
       "    }\n",
       "\n",
       "    .dataframe thead th {\n",
       "        text-align: right;\n",
       "    }\n",
       "</style>\n",
       "<table border=\"1\" class=\"dataframe\">\n",
       "  <thead>\n",
       "    <tr style=\"text-align: right;\">\n",
       "      <th></th>\n",
       "      <th>features</th>\n",
       "      <th>coef</th>\n",
       "    </tr>\n",
       "  </thead>\n",
       "  <tbody>\n",
       "    <tr>\n",
       "      <th>17</th>\n",
       "      <td>overall_qual totrms_abvgrd</td>\n",
       "      <td>32135.134578</td>\n",
       "    </tr>\n",
       "    <tr>\n",
       "      <th>62</th>\n",
       "      <td>totrms_abvgrd^2</td>\n",
       "      <td>28498.228757</td>\n",
       "    </tr>\n",
       "    <tr>\n",
       "      <th>73</th>\n",
       "      <td>full_bath kitchen_qual</td>\n",
       "      <td>25776.144081</td>\n",
       "    </tr>\n",
       "    <tr>\n",
       "      <th>16</th>\n",
       "      <td>overall_qual total_bsmt_sf</td>\n",
       "      <td>23635.934609</td>\n",
       "    </tr>\n",
       "    <tr>\n",
       "      <th>21</th>\n",
       "      <td>overall_qual kitchen_qual</td>\n",
       "      <td>21825.035407</td>\n",
       "    </tr>\n",
       "  </tbody>\n",
       "</table>\n",
       "</div>"
      ],
      "text/plain": [
       "                      features          coef\n",
       "17  overall_qual totrms_abvgrd  32135.134578\n",
       "62             totrms_abvgrd^2  28498.228757\n",
       "73      full_bath kitchen_qual  25776.144081\n",
       "16  overall_qual total_bsmt_sf  23635.934609\n",
       "21   overall_qual kitchen_qual  21825.035407"
      ]
     },
     "execution_count": 31,
     "metadata": {},
     "output_type": "execute_result"
    }
   ],
   "source": [
    "# featuers that have the largest postive coefficents\n",
    "coef_lasso.sort_values(by = 'coef' , ascending = False).head()"
   ]
  },
  {
   "cell_type": "code",
   "execution_count": 32,
   "id": "41baf9a1-4d71-43b0-aa92-f7dec74bb13b",
   "metadata": {},
   "outputs": [
    {
     "data": {
      "text/html": [
       "<div>\n",
       "<style scoped>\n",
       "    .dataframe tbody tr th:only-of-type {\n",
       "        vertical-align: middle;\n",
       "    }\n",
       "\n",
       "    .dataframe tbody tr th {\n",
       "        vertical-align: top;\n",
       "    }\n",
       "\n",
       "    .dataframe thead th {\n",
       "        text-align: right;\n",
       "    }\n",
       "</style>\n",
       "<table border=\"1\" class=\"dataframe\">\n",
       "  <thead>\n",
       "    <tr style=\"text-align: right;\">\n",
       "      <th></th>\n",
       "      <th>features</th>\n",
       "      <th>coef</th>\n",
       "    </tr>\n",
       "  </thead>\n",
       "  <tbody>\n",
       "    <tr>\n",
       "      <th>37</th>\n",
       "      <td>year_remod/add gr_liv_area</td>\n",
       "      <td>-888.850262</td>\n",
       "    </tr>\n",
       "    <tr>\n",
       "      <th>34</th>\n",
       "      <td>year_remod/add neighborhood</td>\n",
       "      <td>-503.410408</td>\n",
       "    </tr>\n",
       "    <tr>\n",
       "      <th>56</th>\n",
       "      <td>total_bsmt_sf^2</td>\n",
       "      <td>-390.252180</td>\n",
       "    </tr>\n",
       "    <tr>\n",
       "      <th>66</th>\n",
       "      <td>totrms_abvgrd kitchen_qual</td>\n",
       "      <td>-0.000000</td>\n",
       "    </tr>\n",
       "    <tr>\n",
       "      <th>69</th>\n",
       "      <td>gr_liv_area garage_area</td>\n",
       "      <td>423.535741</td>\n",
       "    </tr>\n",
       "    <tr>\n",
       "      <th>23</th>\n",
       "      <td>year_built year_remod/add</td>\n",
       "      <td>481.822849</td>\n",
       "    </tr>\n",
       "    <tr>\n",
       "      <th>55</th>\n",
       "      <td>neighborhood kitchen_qual</td>\n",
       "      <td>675.878703</td>\n",
       "    </tr>\n",
       "    <tr>\n",
       "      <th>39</th>\n",
       "      <td>year_remod/add garage_area</td>\n",
       "      <td>708.485341</td>\n",
       "    </tr>\n",
       "    <tr>\n",
       "      <th>41</th>\n",
       "      <td>mas_vnr_area^2</td>\n",
       "      <td>1160.017814</td>\n",
       "    </tr>\n",
       "    <tr>\n",
       "      <th>26</th>\n",
       "      <td>year_built total_bsmt_sf</td>\n",
       "      <td>1390.207275</td>\n",
       "    </tr>\n",
       "  </tbody>\n",
       "</table>\n",
       "</div>"
      ],
      "text/plain": [
       "                       features         coef\n",
       "37   year_remod/add gr_liv_area  -888.850262\n",
       "34  year_remod/add neighborhood  -503.410408\n",
       "56              total_bsmt_sf^2  -390.252180\n",
       "66   totrms_abvgrd kitchen_qual    -0.000000\n",
       "69      gr_liv_area garage_area   423.535741\n",
       "23    year_built year_remod/add   481.822849\n",
       "55    neighborhood kitchen_qual   675.878703\n",
       "39   year_remod/add garage_area   708.485341\n",
       "41               mas_vnr_area^2  1160.017814\n",
       "26     year_built total_bsmt_sf  1390.207275"
      ]
     },
     "execution_count": 32,
     "metadata": {},
     "output_type": "execute_result"
    }
   ],
   "source": [
    "# featuers that have the smallest impact\n",
    "coef_lasso.sort_values(by = 'coef' )[35:45]"
   ]
  },
  {
   "cell_type": "markdown",
   "id": "7e5edc1a-7b52-4a0c-9fc8-61a576019f38",
   "metadata": {},
   "source": [
    "Interpretation:\n",
    "* Most positive coefficients:\n",
    "  *  Interaction between overall quality and total rooms above ground\n",
    "  *  Total rooms above ground (degree 2)\n",
    "  *  Interaction between number of full baths and kitchen quality\n",
    "  *  Interaction between overall quality and total basement square footage\n",
    "  *  Interaction between overall kitchen quality and kitchen quality\n",
    "* Most negative coefficients:\n",
    "  *  Intereaction between total rooms above ground and above ground living area \n",
    "* No impact:\n",
    "  * Interaction between total rooms above ground and kitchen qual has no impact on the model.\n"
   ]
  },
  {
   "cell_type": "code",
   "execution_count": 33,
   "id": "091e1818-2190-4281-9d98-084125bcd9dd",
   "metadata": {},
   "outputs": [
    {
     "data": {
      "text/plain": [
       "180425.62569832403"
      ]
     },
     "execution_count": 33,
     "metadata": {},
     "output_type": "execute_result"
    }
   ],
   "source": [
    "fit_model_lasso[0].intercept_"
   ]
  },
  {
   "cell_type": "markdown",
   "id": "e68a43e5-79b1-472e-ad41-d3cf9e7f204f",
   "metadata": {},
   "source": [
    "Interpretation:\n",
    "The starting sale price is around 180,425 dollars"
   ]
  },
  {
   "cell_type": "code",
   "execution_count": 34,
   "id": "da9bb72e-32f3-4d72-9acc-b18b7b35d4cd",
   "metadata": {
    "tags": []
   },
   "outputs": [],
   "source": [
    "def test_my_model(submission_name, model, model_type, sc = '', poly = ''):\n",
    "    '''Use this function to create a submission to post onto Kaggle\n",
    "       Keyword Arguments:\n",
    "       Submision_number : string; submision name\n",
    "       model: model that was created in pipeline'''\n",
    "\n",
    "    # read the testing data\n",
    "    test_csv          = pd.read_csv('./datasets/test.csv')\n",
    "\n",
    "    # convert testing data to snake case\n",
    "    test_csv.columns  = [ utl.convert_to_snake_case(col) for col in test_csv.columns]\n",
    "\n",
    "    # run the data through the pipeline so it is formated for the model\n",
    "    test              = pipeline(test_csv)\n",
    "\n",
    "    # create predictions on the test data\n",
    "    if model_type == 'lasso':\n",
    "        print('Yes')\n",
    "\n",
    "        #apply polynomial features\n",
    "        test_poly = poly.transform(test)\n",
    "        \n",
    "        #standardize the data\n",
    "        test_sc = sc.transform(test_poly)\n",
    " \n",
    "        submit = test_sc\n",
    "    else:  \n",
    "        submit = test\n",
    "        \n",
    "    saleprice         = model.predict(submit)\n",
    "\n",
    "    # create data frame\n",
    "    test['saleprice'] = saleprice\n",
    "    testing           = test.join(test_csv['id'])\n",
    "\n",
    "    #create csv file in submissions folder\n",
    "    filename          = './submissions/' + submission_name\n",
    "    testing[['id', 'saleprice']].to_csv(filename, index = False)\n",
    "    \n",
    "    print(list(zip(poly.get_feature_names(test.columns), model.coef_)))\n",
    "    return  \n",
    "    "
   ]
  },
  {
   "cell_type": "code",
   "execution_count": 35,
   "id": "3df8887b-168c-4f76-ba46-549b8e4b1410",
   "metadata": {},
   "outputs": [],
   "source": [
    "#test_my_model('test.csv', fit_model_lr, 'lr')"
   ]
  },
  {
   "cell_type": "code",
   "execution_count": null,
   "id": "324c5a54-6ece-4742-a92d-e945b8ef9ab5",
   "metadata": {},
   "outputs": [],
   "source": []
  },
  {
   "cell_type": "code",
   "execution_count": 36,
   "id": "bcd92adb-9da9-4a94-a533-721da01cabdc",
   "metadata": {
    "tags": []
   },
   "outputs": [],
   "source": [
    "#test_my_model('submit_5.csv', fit_model_lasso[0],'lasso',fit_model_lasso[1], fit_model_lasso[2])"
   ]
  },
  {
   "cell_type": "code",
   "execution_count": 37,
   "id": "e7f42113-d5e7-4bef-8176-6fc0ff7da82a",
   "metadata": {},
   "outputs": [],
   "source": [
    "#Save model\n",
    "#joblib.dump(fit_model_lr, 'model_5_lr.sav')\n",
    "#joblib.dump(fit_model_lasso, 'model_5_lasso.sav')"
   ]
  },
  {
   "cell_type": "code",
   "execution_count": 38,
   "id": "6b49f2eb-c061-4470-ba33-c617eb842eb1",
   "metadata": {},
   "outputs": [],
   "source": [
    "#save the features and salprice so visuals can be created"
   ]
  },
  {
   "cell_type": "code",
   "execution_count": 39,
   "id": "9db97b37-857b-4a63-824e-6cfcab49a3ce",
   "metadata": {},
   "outputs": [
    {
     "data": {
      "text/html": [
       "<div>\n",
       "<style scoped>\n",
       "    .dataframe tbody tr th:only-of-type {\n",
       "        vertical-align: middle;\n",
       "    }\n",
       "\n",
       "    .dataframe tbody tr th {\n",
       "        vertical-align: top;\n",
       "    }\n",
       "\n",
       "    .dataframe thead th {\n",
       "        text-align: right;\n",
       "    }\n",
       "</style>\n",
       "<table border=\"1\" class=\"dataframe\">\n",
       "  <thead>\n",
       "    <tr style=\"text-align: right;\">\n",
       "      <th></th>\n",
       "      <th>overall_qual</th>\n",
       "      <th>year_built</th>\n",
       "      <th>year_remod/add</th>\n",
       "      <th>mas_vnr_area</th>\n",
       "      <th>neighborhood</th>\n",
       "      <th>total_bsmt_sf</th>\n",
       "      <th>totrms_abvgrd</th>\n",
       "      <th>gr_liv_area</th>\n",
       "      <th>full_bath</th>\n",
       "      <th>garage_area</th>\n",
       "      <th>kitchen_qual</th>\n",
       "      <th>saleprice</th>\n",
       "    </tr>\n",
       "  </thead>\n",
       "  <tbody>\n",
       "    <tr>\n",
       "      <th>0</th>\n",
       "      <td>6</td>\n",
       "      <td>34</td>\n",
       "      <td>5</td>\n",
       "      <td>289.0</td>\n",
       "      <td>3</td>\n",
       "      <td>725.0</td>\n",
       "      <td>6</td>\n",
       "      <td>1479</td>\n",
       "      <td>2</td>\n",
       "      <td>475.0</td>\n",
       "      <td>4</td>\n",
       "      <td>130500</td>\n",
       "    </tr>\n",
       "    <tr>\n",
       "      <th>1</th>\n",
       "      <td>7</td>\n",
       "      <td>14</td>\n",
       "      <td>13</td>\n",
       "      <td>132.0</td>\n",
       "      <td>3</td>\n",
       "      <td>913.0</td>\n",
       "      <td>8</td>\n",
       "      <td>2122</td>\n",
       "      <td>2</td>\n",
       "      <td>559.0</td>\n",
       "      <td>4</td>\n",
       "      <td>220000</td>\n",
       "    </tr>\n",
       "    <tr>\n",
       "      <th>2</th>\n",
       "      <td>5</td>\n",
       "      <td>57</td>\n",
       "      <td>3</td>\n",
       "      <td>0.0</td>\n",
       "      <td>3</td>\n",
       "      <td>1057.0</td>\n",
       "      <td>5</td>\n",
       "      <td>1057</td>\n",
       "      <td>1</td>\n",
       "      <td>246.0</td>\n",
       "      <td>4</td>\n",
       "      <td>109000</td>\n",
       "    </tr>\n",
       "    <tr>\n",
       "      <th>3</th>\n",
       "      <td>5</td>\n",
       "      <td>4</td>\n",
       "      <td>3</td>\n",
       "      <td>0.0</td>\n",
       "      <td>5</td>\n",
       "      <td>384.0</td>\n",
       "      <td>7</td>\n",
       "      <td>1444</td>\n",
       "      <td>2</td>\n",
       "      <td>400.0</td>\n",
       "      <td>3</td>\n",
       "      <td>174000</td>\n",
       "    </tr>\n",
       "    <tr>\n",
       "      <th>4</th>\n",
       "      <td>6</td>\n",
       "      <td>110</td>\n",
       "      <td>17</td>\n",
       "      <td>0.0</td>\n",
       "      <td>3</td>\n",
       "      <td>676.0</td>\n",
       "      <td>6</td>\n",
       "      <td>1445</td>\n",
       "      <td>2</td>\n",
       "      <td>484.0</td>\n",
       "      <td>3</td>\n",
       "      <td>138500</td>\n",
       "    </tr>\n",
       "  </tbody>\n",
       "</table>\n",
       "</div>"
      ],
      "text/plain": [
       "   overall_qual  year_built  year_remod/add  mas_vnr_area  neighborhood  \\\n",
       "0             6          34               5         289.0             3   \n",
       "1             7          14              13         132.0             3   \n",
       "2             5          57               3           0.0             3   \n",
       "3             5           4               3           0.0             5   \n",
       "4             6         110              17           0.0             3   \n",
       "\n",
       "   total_bsmt_sf  totrms_abvgrd  gr_liv_area  full_bath  garage_area  \\\n",
       "0          725.0              6         1479          2        475.0   \n",
       "1          913.0              8         2122          2        559.0   \n",
       "2         1057.0              5         1057          1        246.0   \n",
       "3          384.0              7         1444          2        400.0   \n",
       "4          676.0              6         1445          2        484.0   \n",
       "\n",
       "   kitchen_qual  saleprice  \n",
       "0             4     130500  \n",
       "1             4     220000  \n",
       "2             4     109000  \n",
       "3             3     174000  \n",
       "4             3     138500  "
      ]
     },
     "execution_count": 39,
     "metadata": {},
     "output_type": "execute_result"
    }
   ],
   "source": [
    "model = model.merge(clean_df['saleprice'], left_index= True, right_index=True)\n",
    "model.head()"
   ]
  },
  {
   "cell_type": "code",
   "execution_count": null,
   "id": "f7fa8798-bce5-4348-aaa2-4d621e020d9f",
   "metadata": {},
   "outputs": [],
   "source": []
  },
  {
   "cell_type": "code",
   "execution_count": 40,
   "id": "299886f5-5cb6-45a5-92ef-e689563c3e4d",
   "metadata": {},
   "outputs": [],
   "source": [
    "model.to_csv('./datasets/model_df.csv')"
   ]
  },
  {
   "cell_type": "code",
   "execution_count": null,
   "id": "1f688efe-e4eb-44e3-ba47-e9885c17bc9d",
   "metadata": {},
   "outputs": [],
   "source": []
  },
  {
   "cell_type": "code",
   "execution_count": null,
   "id": "5949776e-9b79-4d0f-9429-c3834c8b3afc",
   "metadata": {},
   "outputs": [],
   "source": []
  }
 ],
 "metadata": {
  "kernelspec": {
   "display_name": "Python 3",
   "language": "python",
   "name": "python3"
  },
  "language_info": {
   "codemirror_mode": {
    "name": "ipython",
    "version": 3
   },
   "file_extension": ".py",
   "mimetype": "text/x-python",
   "name": "python",
   "nbconvert_exporter": "python",
   "pygments_lexer": "ipython3",
   "version": "3.8.8"
  }
 },
 "nbformat": 4,
 "nbformat_minor": 5
}
